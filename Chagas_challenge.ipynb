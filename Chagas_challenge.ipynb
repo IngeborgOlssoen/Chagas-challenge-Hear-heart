{
  "nbformat": 4,
  "nbformat_minor": 0,
  "metadata": {
    "colab": {
      "provenance": [],
      "collapsed_sections": [
        "m6F72bNd2heL",
        "Y58G9-Jbyn5z",
        "ERDgM-jbIkjH",
        "UtBFrO8po3ZJ",
        "ioN6aEAy-YHp"
      ],
      "machine_shape": "hm",
      "gpuType": "T4",
      "include_colab_link": true
    },
    "kernelspec": {
      "name": "python3",
      "display_name": "Python 3"
    },
    "language_info": {
      "name": "python"
    },
    "accelerator": "GPU"
  },
  "cells": [
    {
      "cell_type": "markdown",
      "metadata": {
        "id": "view-in-github",
        "colab_type": "text"
      },
      "source": [
        "<a href=\"https://colab.research.google.com/github/IngeborgOlssoen/Chagas-challenge-Hear-heart/blob/main/Chagas_challenge.ipynb\" target=\"_parent\"><img src=\"https://colab.research.google.com/assets/colab-badge.svg\" alt=\"Open In Colab\"/></a>"
      ]
    },
    {
      "cell_type": "markdown",
      "source": [
        "# Content\n",
        "\n",
        "1. Resumen\n",
        "2. Setup\n",
        "3. Helper functions\n",
        "4. Dataplitting & Balancing of samples\n",
        "5. Ensemble model (HearHeart)\n",
        "6. S4 Model\n",
        "7. Comparison between Ensemble Model and S4 model\n",
        "\n"
      ],
      "metadata": {
        "id": "VENHfRu0q9Km"
      }
    },
    {
      "cell_type": "markdown",
      "source": [
        "#Resumen\n",
        "En este proyecto, partimos del repositorio oficial de ejemplo en Python proporcionado para el George B. Moody PhysioNet Challenge 2025 (GitHub) para desarrollar y evaluar dos modelos distintos de aprendizaje automático con el objetivo de detectar la enfermedad de Chagas a partir de señales de ECG.\n",
        "\n",
        "El primer enfoque es un modelo de ensamble, inspirado en la solución ganadora del Heart Murmur Detection Challenge 2022 (HearHeart). Este ensamble combina tres arquitecturas neuronales independientes: un clasificador basado en una red neuronal artificial (ANN), una red convolucional recurrente (CRNN) y un modelo basado en ResNet. Cada modelo se entrena de forma individual, y las predicciones finales se obtienen mediante un promedio ponderado de las probabilidades de salida de cada uno. Esta estrategia aprovecha las diferentes representaciones de características que aprende cada arquitectura para mejorar la robustez y el rendimiento del modelo.\n",
        "\n",
        "El segundo modelo desarrollado se basa en la arquitectura S4 (Structured State Space Sequence), diseñada para modelar secuencias largas de forma eficiente. Esta arquitectura es especialmente adecuada para procesar señales de ECG multicanal y de larga duración, y ha sido ajustada para predecir directamente la probabilidad de Chagas en cada caso.\n",
        "\n",
        "Ambos modelos fueron integrados dentro del entorno de evaluación oficial del Challenge, utilizando la función de puntuación proporcionada (compute_challenge_score) y evaluados con la misma metodología para permitir una comparación justa. Todo el flujo de trabajo —incluyendo carga de datos, preprocesamiento de señales, inferencia del modelo, formato de salida y evaluación de resultados— se documenta detalladamente en el notebook disponible en este enlace.\n",
        "\n",
        "El modelo de ensamble mostró un rendimiento sólido gracias a la complementariedad de sus arquitecturas, mientras que el modelo S4 evidenció potencial para futuras mejoras mediante un ajuste más fino y técnicas de representación especializadas para señales fisiológicas.\n"
      ],
      "metadata": {
        "id": "IHrKfw_J7Qzc"
      }
    },
    {
      "cell_type": "markdown",
      "source": [
        "# Repo setup\n",
        "\n",
        "To be able to run the code:\n",
        "\n",
        "1. Clone a GitHub repository\n",
        "\n",
        "2. Add the repo to the Python path so their modules can be used directly\n",
        "\n",
        "3. Install requirements and import neccesary libraries\n"
      ],
      "metadata": {
        "id": "iqV_RV674FS0"
      }
    },
    {
      "cell_type": "markdown",
      "source": [
        "### Clone repository and locate it"
      ],
      "metadata": {
        "id": "jPFT4aoaKDlW"
      }
    },
    {
      "cell_type": "code",
      "source": [
        "!git clone -b Slimmed-models https://github.com/IngeborgOlssoen/Chagas-challenge-Hear-heart.git\n",
        "!cd Chagas-challenge-Hear-heart && ls"
      ],
      "metadata": {
        "id": "I7rb5ze0KCCb",
        "colab": {
          "base_uri": "https://localhost:8080/"
        },
        "outputId": "912f6863-417c-46da-b501-e7c13476c91a"
      },
      "execution_count": null,
      "outputs": [
        {
          "output_type": "stream",
          "name": "stdout",
          "text": [
            "Cloning into 'Chagas-challenge-Hear-heart'...\n",
            "remote: Enumerating objects: 371, done.\u001b[K\n",
            "remote: Counting objects:   1% (1/58)\u001b[K\rremote: Counting objects:   3% (2/58)\u001b[K\rremote: Counting objects:   5% (3/58)\u001b[K\rremote: Counting objects:   6% (4/58)\u001b[K\rremote: Counting objects:   8% (5/58)\u001b[K\rremote: Counting objects:  10% (6/58)\u001b[K\rremote: Counting objects:  12% (7/58)\u001b[K\rremote: Counting objects:  13% (8/58)\u001b[K\rremote: Counting objects:  15% (9/58)\u001b[K\rremote: Counting objects:  17% (10/58)\u001b[K\rremote: Counting objects:  18% (11/58)\u001b[K\rremote: Counting objects:  20% (12/58)\u001b[K\rremote: Counting objects:  22% (13/58)\u001b[K\rremote: Counting objects:  24% (14/58)\u001b[K\rremote: Counting objects:  25% (15/58)\u001b[K\rremote: Counting objects:  27% (16/58)\u001b[K\rremote: Counting objects:  29% (17/58)\u001b[K\rremote: Counting objects:  31% (18/58)\u001b[K\rremote: Counting objects:  32% (19/58)\u001b[K\rremote: Counting objects:  34% (20/58)\u001b[K\rremote: Counting objects:  36% (21/58)\u001b[K\rremote: Counting objects:  37% (22/58)\u001b[K\rremote: Counting objects:  39% (23/58)\u001b[K\rremote: Counting objects:  41% (24/58)\u001b[K\rremote: Counting objects:  43% (25/58)\u001b[K\rremote: Counting objects:  44% (26/58)\u001b[K\rremote: Counting objects:  46% (27/58)\u001b[K\rremote: Counting objects:  48% (28/58)\u001b[K\rremote: Counting objects:  50% (29/58)\u001b[K\rremote: Counting objects:  51% (30/58)\u001b[K\rremote: Counting objects:  53% (31/58)\u001b[K\rremote: Counting objects:  55% (32/58)\u001b[K\rremote: Counting objects:  56% (33/58)\u001b[K\rremote: Counting objects:  58% (34/58)\u001b[K\rremote: Counting objects:  60% (35/58)\u001b[K\rremote: Counting objects:  62% (36/58)\u001b[K\rremote: Counting objects:  63% (37/58)\u001b[K\rremote: Counting objects:  65% (38/58)\u001b[K\rremote: Counting objects:  67% (39/58)\u001b[K\rremote: Counting objects:  68% (40/58)\u001b[K\rremote: Counting objects:  70% (41/58)\u001b[K\rremote: Counting objects:  72% (42/58)\u001b[K\rremote: Counting objects:  74% (43/58)\u001b[K\rremote: Counting objects:  75% (44/58)\u001b[K\rremote: Counting objects:  77% (45/58)\u001b[K\rremote: Counting objects:  79% (46/58)\u001b[K\rremote: Counting objects:  81% (47/58)\u001b[K\rremote: Counting objects:  82% (48/58)\u001b[K\rremote: Counting objects:  84% (49/58)\u001b[K\rremote: Counting objects:  86% (50/58)\u001b[K\rremote: Counting objects:  87% (51/58)\u001b[K\rremote: Counting objects:  89% (52/58)\u001b[K\rremote: Counting objects:  91% (53/58)\u001b[K\rremote: Counting objects:  93% (54/58)\u001b[K\rremote: Counting objects:  94% (55/58)\u001b[K\rremote: Counting objects:  96% (56/58)\u001b[K\rremote: Counting objects:  98% (57/58)\u001b[K\rremote: Counting objects: 100% (58/58)\u001b[K\rremote: Counting objects: 100% (58/58), done.\u001b[K\n",
            "remote: Compressing objects: 100% (51/51), done.\u001b[K\n",
            "remote: Total 371 (delta 14), reused 41 (delta 4), pack-reused 313 (from 4)\u001b[K\n",
            "Receiving objects: 100% (371/371), 169.40 MiB | 49.48 MiB/s, done.\n",
            "Resolving deltas: 100% (26/26), done.\n",
            "base_model.py\t\tLICENSE\t\t\t  requirements.txt\n",
            "Chagas_challenge.ipynb\tmodel\t\t\t  run_model.py\n",
            "dataset\t\t\tmodel2\t\t\t  scores.csv\n",
            "detailed_scores.csv\tprepare_code15_data.py\t  script.py\n",
            "Dockerfile\t\tprepare_ptbxl_data.py\t  splitting_data.py\n",
            "evaluate_model.py\tprepare_samitrop_data.py  team_code.py\n",
            "helper_code.py\t\t__pycache__\t\t  train_model.py\n",
            "holdout_ouputs\t\tREADME.md\t\t  train_tmp.csv\n"
          ]
        }
      ]
    },
    {
      "cell_type": "code",
      "source": [
        "# Clone model repo (Repo 2)\n",
        "!git clone https://github.com/IngeborgOlssoen/ECG-chagas.git"
      ],
      "metadata": {
        "colab": {
          "base_uri": "https://localhost:8080/"
        },
        "id": "GJ1wGSK_g-pB",
        "outputId": "37f420bc-b132-4b1c-f1c8-0af266a42432"
      },
      "execution_count": null,
      "outputs": [
        {
          "output_type": "stream",
          "name": "stdout",
          "text": [
            "Cloning into 'ECG-chagas'...\n",
            "remote: Enumerating objects: 60, done.\u001b[K\n",
            "remote: Counting objects:   1% (1/60)\u001b[K\rremote: Counting objects:   3% (2/60)\u001b[K\rremote: Counting objects:   5% (3/60)\u001b[K\rremote: Counting objects:   6% (4/60)\u001b[K\rremote: Counting objects:   8% (5/60)\u001b[K\rremote: Counting objects:  10% (6/60)\u001b[K\rremote: Counting objects:  11% (7/60)\u001b[K\rremote: Counting objects:  13% (8/60)\u001b[K\rremote: Counting objects:  15% (9/60)\u001b[K\rremote: Counting objects:  16% (10/60)\u001b[K\rremote: Counting objects:  18% (11/60)\u001b[K\rremote: Counting objects:  20% (12/60)\u001b[K\rremote: Counting objects:  21% (13/60)\u001b[K\rremote: Counting objects:  23% (14/60)\u001b[K\rremote: Counting objects:  25% (15/60)\u001b[K\rremote: Counting objects:  26% (16/60)\u001b[K\rremote: Counting objects:  28% (17/60)\u001b[K\rremote: Counting objects:  30% (18/60)\u001b[K\rremote: Counting objects:  31% (19/60)\u001b[K\rremote: Counting objects:  33% (20/60)\u001b[K\rremote: Counting objects:  35% (21/60)\u001b[K\rremote: Counting objects:  36% (22/60)\u001b[K\rremote: Counting objects:  38% (23/60)\u001b[K\rremote: Counting objects:  40% (24/60)\u001b[K\rremote: Counting objects:  41% (25/60)\u001b[K\rremote: Counting objects:  43% (26/60)\u001b[K\rremote: Counting objects:  45% (27/60)\u001b[K\rremote: Counting objects:  46% (28/60)\u001b[K\rremote: Counting objects:  48% (29/60)\u001b[K\rremote: Counting objects:  50% (30/60)\u001b[K\rremote: Counting objects:  51% (31/60)\u001b[K\rremote: Counting objects:  53% (32/60)\u001b[K\rremote: Counting objects:  55% (33/60)\u001b[K\rremote: Counting objects:  56% (34/60)\u001b[K\rremote: Counting objects:  58% (35/60)\u001b[K\rremote: Counting objects:  60% (36/60)\u001b[K\rremote: Counting objects:  61% (37/60)\u001b[K\rremote: Counting objects:  63% (38/60)\u001b[K\rremote: Counting objects:  65% (39/60)\u001b[K\rremote: Counting objects:  66% (40/60)\u001b[K\rremote: Counting objects:  68% (41/60)\u001b[K\rremote: Counting objects:  70% (42/60)\u001b[K\rremote: Counting objects:  71% (43/60)\u001b[K\rremote: Counting objects:  73% (44/60)\u001b[K\rremote: Counting objects:  75% (45/60)\u001b[K\rremote: Counting objects:  76% (46/60)\u001b[K\rremote: Counting objects:  78% (47/60)\u001b[K\rremote: Counting objects:  80% (48/60)\u001b[K\rremote: Counting objects:  81% (49/60)\u001b[K\rremote: Counting objects:  83% (50/60)\u001b[K\rremote: Counting objects:  85% (51/60)\u001b[K\rremote: Counting objects:  86% (52/60)\u001b[K\rremote: Counting objects:  88% (53/60)\u001b[K\rremote: Counting objects:  90% (54/60)\u001b[K\rremote: Counting objects:  91% (55/60)\u001b[K\rremote: Counting objects:  93% (56/60)\u001b[K\rremote: Counting objects:  95% (57/60)\u001b[K\rremote: Counting objects:  96% (58/60)\u001b[K\rremote: Counting objects:  98% (59/60)\u001b[K\rremote: Counting objects: 100% (60/60)\u001b[K\rremote: Counting objects: 100% (60/60), done.\u001b[K\n",
            "remote: Compressing objects: 100% (51/51), done.\u001b[K\n",
            "remote: Total 60 (delta 4), reused 55 (delta 2), pack-reused 0 (from 0)\u001b[K\n",
            "Receiving objects: 100% (60/60), 1.71 MiB | 17.66 MiB/s, done.\n",
            "Resolving deltas: 100% (4/4), done.\n"
          ]
        }
      ]
    },
    {
      "cell_type": "markdown",
      "source": [
        "### Add them as system path"
      ],
      "metadata": {
        "id": "KUTPEg6TKMoz"
      }
    },
    {
      "cell_type": "code",
      "source": [
        "import sys\n",
        "sys.path.append('/content/Chagas-challenge-Hear-heart')\n",
        "sys.path.append('/content/ECG-chagas')"
      ],
      "metadata": {
        "id": "SverdBL1KLyp"
      },
      "execution_count": null,
      "outputs": []
    },
    {
      "cell_type": "markdown",
      "source": [
        "### Requirements and imports"
      ],
      "metadata": {
        "id": "uYpziLLaDGzw"
      }
    },
    {
      "cell_type": "code",
      "source": [
        "!pip install wfdb\n",
        "!pip install -r requirements.txt\n",
        "!pip install wfdb scikit-learn numpy pandas torch torchvision\n"
      ],
      "metadata": {
        "colab": {
          "base_uri": "https://localhost:8080/"
        },
        "collapsed": true,
        "id": "lSyVbyWgltEO",
        "outputId": "5e2ef117-4700-4f72-d983-3d8c27a02dcb"
      },
      "execution_count": null,
      "outputs": [
        {
          "output_type": "stream",
          "name": "stdout",
          "text": [
            "Requirement already satisfied: wfdb in /usr/local/lib/python3.11/dist-packages (4.1.2)\n",
            "Requirement already satisfied: SoundFile>=0.10.0 in /usr/local/lib/python3.11/dist-packages (from wfdb) (0.13.1)\n",
            "Requirement already satisfied: matplotlib>=3.2.2 in /usr/local/lib/python3.11/dist-packages (from wfdb) (3.10.0)\n",
            "Requirement already satisfied: numpy>=1.10.1 in /usr/local/lib/python3.11/dist-packages (from wfdb) (2.0.2)\n",
            "Requirement already satisfied: pandas>=1.3.0 in /usr/local/lib/python3.11/dist-packages (from wfdb) (2.2.2)\n",
            "Requirement already satisfied: requests>=2.8.1 in /usr/local/lib/python3.11/dist-packages (from wfdb) (2.32.3)\n",
            "Requirement already satisfied: scipy>=1.0.0 in /usr/local/lib/python3.11/dist-packages (from wfdb) (1.15.3)\n",
            "Requirement already satisfied: contourpy>=1.0.1 in /usr/local/lib/python3.11/dist-packages (from matplotlib>=3.2.2->wfdb) (1.3.2)\n",
            "Requirement already satisfied: cycler>=0.10 in /usr/local/lib/python3.11/dist-packages (from matplotlib>=3.2.2->wfdb) (0.12.1)\n",
            "Requirement already satisfied: fonttools>=4.22.0 in /usr/local/lib/python3.11/dist-packages (from matplotlib>=3.2.2->wfdb) (4.58.4)\n",
            "Requirement already satisfied: kiwisolver>=1.3.1 in /usr/local/lib/python3.11/dist-packages (from matplotlib>=3.2.2->wfdb) (1.4.8)\n",
            "Requirement already satisfied: packaging>=20.0 in /usr/local/lib/python3.11/dist-packages (from matplotlib>=3.2.2->wfdb) (24.2)\n",
            "Requirement already satisfied: pillow>=8 in /usr/local/lib/python3.11/dist-packages (from matplotlib>=3.2.2->wfdb) (11.2.1)\n",
            "Requirement already satisfied: pyparsing>=2.3.1 in /usr/local/lib/python3.11/dist-packages (from matplotlib>=3.2.2->wfdb) (3.2.3)\n",
            "Requirement already satisfied: python-dateutil>=2.7 in /usr/local/lib/python3.11/dist-packages (from matplotlib>=3.2.2->wfdb) (2.9.0.post0)\n",
            "Requirement already satisfied: pytz>=2020.1 in /usr/local/lib/python3.11/dist-packages (from pandas>=1.3.0->wfdb) (2025.2)\n",
            "Requirement already satisfied: tzdata>=2022.7 in /usr/local/lib/python3.11/dist-packages (from pandas>=1.3.0->wfdb) (2025.2)\n",
            "Requirement already satisfied: charset-normalizer<4,>=2 in /usr/local/lib/python3.11/dist-packages (from requests>=2.8.1->wfdb) (3.4.2)\n",
            "Requirement already satisfied: idna<4,>=2.5 in /usr/local/lib/python3.11/dist-packages (from requests>=2.8.1->wfdb) (3.10)\n",
            "Requirement already satisfied: urllib3<3,>=1.21.1 in /usr/local/lib/python3.11/dist-packages (from requests>=2.8.1->wfdb) (2.4.0)\n",
            "Requirement already satisfied: certifi>=2017.4.17 in /usr/local/lib/python3.11/dist-packages (from requests>=2.8.1->wfdb) (2025.6.15)\n",
            "Requirement already satisfied: cffi>=1.0 in /usr/local/lib/python3.11/dist-packages (from SoundFile>=0.10.0->wfdb) (1.17.1)\n",
            "Requirement already satisfied: pycparser in /usr/local/lib/python3.11/dist-packages (from cffi>=1.0->SoundFile>=0.10.0->wfdb) (2.22)\n",
            "Requirement already satisfied: six>=1.5 in /usr/local/lib/python3.11/dist-packages (from python-dateutil>=2.7->matplotlib>=3.2.2->wfdb) (1.17.0)\n",
            "\u001b[31mERROR: Could not open requirements file: [Errno 2] No such file or directory: 'requirements.txt'\u001b[0m\u001b[31m\n",
            "\u001b[0mRequirement already satisfied: wfdb in /usr/local/lib/python3.11/dist-packages (4.1.2)\n",
            "Requirement already satisfied: scikit-learn in /usr/local/lib/python3.11/dist-packages (1.6.0)\n",
            "Requirement already satisfied: numpy in /usr/local/lib/python3.11/dist-packages (2.0.2)\n",
            "Requirement already satisfied: pandas in /usr/local/lib/python3.11/dist-packages (2.2.2)\n",
            "Requirement already satisfied: torch in /usr/local/lib/python3.11/dist-packages (2.6.0+cu124)\n",
            "Requirement already satisfied: torchvision in /usr/local/lib/python3.11/dist-packages (0.21.0+cu124)\n",
            "Requirement already satisfied: SoundFile>=0.10.0 in /usr/local/lib/python3.11/dist-packages (from wfdb) (0.13.1)\n",
            "Requirement already satisfied: matplotlib>=3.2.2 in /usr/local/lib/python3.11/dist-packages (from wfdb) (3.10.0)\n",
            "Requirement already satisfied: requests>=2.8.1 in /usr/local/lib/python3.11/dist-packages (from wfdb) (2.32.3)\n",
            "Requirement already satisfied: scipy>=1.0.0 in /usr/local/lib/python3.11/dist-packages (from wfdb) (1.15.3)\n",
            "Requirement already satisfied: joblib>=1.2.0 in /usr/local/lib/python3.11/dist-packages (from scikit-learn) (1.4.2)\n",
            "Requirement already satisfied: threadpoolctl>=3.1.0 in /usr/local/lib/python3.11/dist-packages (from scikit-learn) (3.6.0)\n",
            "Requirement already satisfied: python-dateutil>=2.8.2 in /usr/local/lib/python3.11/dist-packages (from pandas) (2.9.0.post0)\n",
            "Requirement already satisfied: pytz>=2020.1 in /usr/local/lib/python3.11/dist-packages (from pandas) (2025.2)\n",
            "Requirement already satisfied: tzdata>=2022.7 in /usr/local/lib/python3.11/dist-packages (from pandas) (2025.2)\n",
            "Requirement already satisfied: filelock in /usr/local/lib/python3.11/dist-packages (from torch) (3.18.0)\n",
            "Requirement already satisfied: typing-extensions>=4.10.0 in /usr/local/lib/python3.11/dist-packages (from torch) (4.14.0)\n",
            "Requirement already satisfied: networkx in /usr/local/lib/python3.11/dist-packages (from torch) (3.5)\n",
            "Requirement already satisfied: jinja2 in /usr/local/lib/python3.11/dist-packages (from torch) (3.1.6)\n",
            "Requirement already satisfied: fsspec in /usr/local/lib/python3.11/dist-packages (from torch) (2025.3.2)\n",
            "Requirement already satisfied: nvidia-cuda-nvrtc-cu12==12.4.127 in /usr/local/lib/python3.11/dist-packages (from torch) (12.4.127)\n",
            "Requirement already satisfied: nvidia-cuda-runtime-cu12==12.4.127 in /usr/local/lib/python3.11/dist-packages (from torch) (12.4.127)\n",
            "Requirement already satisfied: nvidia-cuda-cupti-cu12==12.4.127 in /usr/local/lib/python3.11/dist-packages (from torch) (12.4.127)\n",
            "Requirement already satisfied: nvidia-cudnn-cu12==9.1.0.70 in /usr/local/lib/python3.11/dist-packages (from torch) (9.1.0.70)\n",
            "Requirement already satisfied: nvidia-cublas-cu12==12.4.5.8 in /usr/local/lib/python3.11/dist-packages (from torch) (12.4.5.8)\n",
            "Requirement already satisfied: nvidia-cufft-cu12==11.2.1.3 in /usr/local/lib/python3.11/dist-packages (from torch) (11.2.1.3)\n",
            "Requirement already satisfied: nvidia-curand-cu12==10.3.5.147 in /usr/local/lib/python3.11/dist-packages (from torch) (10.3.5.147)\n",
            "Requirement already satisfied: nvidia-cusolver-cu12==11.6.1.9 in /usr/local/lib/python3.11/dist-packages (from torch) (11.6.1.9)\n",
            "Requirement already satisfied: nvidia-cusparse-cu12==12.3.1.170 in /usr/local/lib/python3.11/dist-packages (from torch) (12.3.1.170)\n",
            "Requirement already satisfied: nvidia-cusparselt-cu12==0.6.2 in /usr/local/lib/python3.11/dist-packages (from torch) (0.6.2)\n",
            "Requirement already satisfied: nvidia-nccl-cu12==2.21.5 in /usr/local/lib/python3.11/dist-packages (from torch) (2.21.5)\n",
            "Requirement already satisfied: nvidia-nvtx-cu12==12.4.127 in /usr/local/lib/python3.11/dist-packages (from torch) (12.4.127)\n",
            "Requirement already satisfied: nvidia-nvjitlink-cu12==12.4.127 in /usr/local/lib/python3.11/dist-packages (from torch) (12.4.127)\n",
            "Requirement already satisfied: triton==3.2.0 in /usr/local/lib/python3.11/dist-packages (from torch) (3.2.0)\n",
            "Requirement already satisfied: sympy==1.13.1 in /usr/local/lib/python3.11/dist-packages (from torch) (1.13.1)\n",
            "Requirement already satisfied: mpmath<1.4,>=1.1.0 in /usr/local/lib/python3.11/dist-packages (from sympy==1.13.1->torch) (1.3.0)\n",
            "Requirement already satisfied: pillow!=8.3.*,>=5.3.0 in /usr/local/lib/python3.11/dist-packages (from torchvision) (11.2.1)\n",
            "Requirement already satisfied: contourpy>=1.0.1 in /usr/local/lib/python3.11/dist-packages (from matplotlib>=3.2.2->wfdb) (1.3.2)\n",
            "Requirement already satisfied: cycler>=0.10 in /usr/local/lib/python3.11/dist-packages (from matplotlib>=3.2.2->wfdb) (0.12.1)\n",
            "Requirement already satisfied: fonttools>=4.22.0 in /usr/local/lib/python3.11/dist-packages (from matplotlib>=3.2.2->wfdb) (4.58.4)\n",
            "Requirement already satisfied: kiwisolver>=1.3.1 in /usr/local/lib/python3.11/dist-packages (from matplotlib>=3.2.2->wfdb) (1.4.8)\n",
            "Requirement already satisfied: packaging>=20.0 in /usr/local/lib/python3.11/dist-packages (from matplotlib>=3.2.2->wfdb) (24.2)\n",
            "Requirement already satisfied: pyparsing>=2.3.1 in /usr/local/lib/python3.11/dist-packages (from matplotlib>=3.2.2->wfdb) (3.2.3)\n",
            "Requirement already satisfied: six>=1.5 in /usr/local/lib/python3.11/dist-packages (from python-dateutil>=2.8.2->pandas) (1.17.0)\n",
            "Requirement already satisfied: charset-normalizer<4,>=2 in /usr/local/lib/python3.11/dist-packages (from requests>=2.8.1->wfdb) (3.4.2)\n",
            "Requirement already satisfied: idna<4,>=2.5 in /usr/local/lib/python3.11/dist-packages (from requests>=2.8.1->wfdb) (3.10)\n",
            "Requirement already satisfied: urllib3<3,>=1.21.1 in /usr/local/lib/python3.11/dist-packages (from requests>=2.8.1->wfdb) (2.4.0)\n",
            "Requirement already satisfied: certifi>=2017.4.17 in /usr/local/lib/python3.11/dist-packages (from requests>=2.8.1->wfdb) (2025.6.15)\n",
            "Requirement already satisfied: cffi>=1.0 in /usr/local/lib/python3.11/dist-packages (from SoundFile>=0.10.0->wfdb) (1.17.1)\n",
            "Requirement already satisfied: MarkupSafe>=2.0 in /usr/local/lib/python3.11/dist-packages (from jinja2->torch) (3.0.2)\n",
            "Requirement already satisfied: pycparser in /usr/local/lib/python3.11/dist-packages (from cffi>=1.0->SoundFile>=0.10.0->wfdb) (2.22)\n"
          ]
        }
      ]
    },
    {
      "cell_type": "code",
      "source": [
        "# Standard libraries\n",
        "import os\n",
        "import shutil\n",
        "import zipfile\n",
        "\n",
        "# Data handling\n",
        "import numpy as np\n",
        "import pandas as pd\n",
        "from sklearn.model_selection import train_test_split\n",
        "from sklearn.utils.class_weight import compute_class_weight\n",
        "from imblearn.under_sampling import RandomUnderSampler\n",
        "\n",
        "# Plotting\n",
        "import matplotlib.pyplot as plt\n",
        "\n",
        "# PyTorch\n",
        "from torch.utils.data import DataLoader, WeightedRandomSampler\n",
        "\n",
        "# PhysioNet data\n",
        "import wfdb\n",
        "\n",
        "# Local challenge modules\n",
        "from helper_code import (\n",
        "    load_header,\n",
        "    load_text,\n",
        "    get_label,\n",
        "    get_probability,\n",
        "    get_source,\n",
        "    get_age,\n",
        "    get_sex,\n",
        "    compute_challenge_score,\n",
        "    compute_auc,\n",
        "    compute_accuracy,\n",
        "    compute_f_measure,\n",
        ")\n",
        "\n",
        "from team_code import ECGFromCSV\n"
      ],
      "metadata": {
        "id": "RR1LZ1URnY4u"
      },
      "execution_count": null,
      "outputs": []
    },
    {
      "cell_type": "markdown",
      "source": [
        "# Helper function"
      ],
      "metadata": {
        "id": "6meYLout1zKo"
      }
    },
    {
      "cell_type": "markdown",
      "source": [
        "### Loads predictions and labels for evaluating model"
      ],
      "metadata": {
        "id": "m6F72bNd2heL"
      }
    },
    {
      "cell_type": "code",
      "source": [
        "def load_predictions_and_labels(output_dir):\n",
        "    labels = []\n",
        "    probs = []\n",
        "\n",
        "    for fname in sorted(os.listdir(output_dir)):\n",
        "        if not fname.endswith('.txt'):\n",
        "            continue\n",
        "\n",
        "        path = os.path.join(output_dir, fname)\n",
        "        content = load_text(path)\n",
        "\n",
        "        try:\n",
        "            label = get_label(content)\n",
        "            prob = get_probability(content)\n",
        "        except:\n",
        "            continue  # Skip malformed files\n",
        "\n",
        "        labels.append(label)\n",
        "        probs.append(prob)\n",
        "\n",
        "    return np.array(labels), np.array(probs)"
      ],
      "metadata": {
        "id": "bPry7mnw12Ex"
      },
      "execution_count": null,
      "outputs": []
    },
    {
      "cell_type": "markdown",
      "source": [
        "# Ensemble model (HearHeart)"
      ],
      "metadata": {
        "id": "jmKQMj-lr09b"
      }
    },
    {
      "cell_type": "markdown",
      "source": [
        "### Run"
      ],
      "metadata": {
        "id": "771NhxfwF8eb"
      }
    },
    {
      "cell_type": "code",
      "source": [
        "!python Chagas-challenge-Hear-heart/run_model.py -d Chagas-challenge-Hear-heart/dataset -m Chagas-challenge-Hear-heart/model -o holdout_outputs_ens -v"
      ],
      "metadata": {
        "id": "Xqy4Ugp-1IeQ",
        "collapsed": true,
        "colab": {
          "base_uri": "https://localhost:8080/"
        },
        "outputId": "614d98ce-2116-4a3f-be3a-e96ca5199ffe"
      },
      "execution_count": null,
      "outputs": [
        {
          "output_type": "stream",
          "name": "stdout",
          "text": [
            "Loading the Challenge model...\n",
            "final model path Chagas-challenge-Hear-heart/model/final_model.pt\n",
            "model path: Chagas-challenge-Hear-heart/model/audio_classifier_model.pt\n",
            "model path: Chagas-challenge-Hear-heart/model/crnn_model.pt\n",
            "model path: Chagas-challenge-Hear-heart/model/resnet_model.pt\n",
            "folder: Chagas-challenge-Hear-heart/dataset\n",
            "Finding the Challenge data...\n",
            "Running the Challenge model on the Challenge data...\n",
            "-  1/10: 00005_hr...\n",
            "audio_classifier: pred=1, prob=0.6942, weight=0.45\n",
            "           crnn: pred=1, prob=0.9669, weight=0.10\n",
            "         resnet: pred=0, prob=0.0104, weight=0.45\n",
            "\n",
            "Final avg prob: 0.4710 → Prediction: 0\n",
            "-  2/10: 00042_hr...\n",
            "audio_classifier: pred=1, prob=0.6483, weight=0.45\n",
            "           crnn: pred=1, prob=0.9670, weight=0.10\n",
            "         resnet: pred=1, prob=0.8567, weight=0.45\n",
            "\n",
            "Final avg prob: 0.6011 → Prediction: 0\n",
            "-  3/10: 00044_hr...\n",
            "audio_classifier: pred=1, prob=0.6182, weight=0.45\n",
            "           crnn: pred=1, prob=0.9667, weight=0.10\n",
            "         resnet: pred=0, prob=0.4383, weight=0.45\n",
            "\n",
            "Final avg prob: 0.5242 → Prediction: 0\n",
            "-  4/10: 00135_hr...\n",
            "audio_classifier: pred=1, prob=0.8634, weight=0.45\n",
            "           crnn: pred=1, prob=0.9685, weight=0.10\n",
            "         resnet: pred=1, prob=0.9644, weight=0.45\n",
            "\n",
            "Final avg prob: 0.6924 → Prediction: 1\n",
            "-  5/10: 00180_hr...\n",
            "audio_classifier: pred=1, prob=0.9794, weight=0.45\n",
            "           crnn: pred=1, prob=0.9768, weight=0.10\n",
            "         resnet: pred=0, prob=0.4486, weight=0.45\n",
            "\n",
            "Final avg prob: 0.5864 → Prediction: 0\n",
            "-  6/10: 866472...\n",
            "audio_classifier: pred=1, prob=0.9282, weight=0.45\n",
            "           crnn: pred=1, prob=0.9665, weight=0.10\n",
            "         resnet: pred=0, prob=0.0947, weight=0.45\n",
            "\n",
            "Final avg prob: 0.5191 → Prediction: 0\n",
            "-  7/10: 869250...\n",
            "audio_classifier: pred=1, prob=0.9507, weight=0.45\n",
            "           crnn: pred=1, prob=0.9665, weight=0.10\n",
            "         resnet: pred=1, prob=0.8632, weight=0.45\n",
            "\n",
            "Final avg prob: 0.6863 → Prediction: 1\n",
            "-  8/10: 871196...\n",
            "audio_classifier: pred=1, prob=0.9375, weight=0.45\n",
            "           crnn: pred=1, prob=0.9665, weight=0.10\n",
            "         resnet: pred=1, prob=0.9764, weight=0.45\n",
            "\n",
            "Final avg prob: 0.7392 → Prediction: 1\n",
            "-  9/10: 872925...\n",
            "audio_classifier: pred=1, prob=0.9185, weight=0.45\n",
            "           crnn: pred=1, prob=0.9666, weight=0.10\n",
            "         resnet: pred=1, prob=0.8818, weight=0.45\n",
            "\n",
            "Final avg prob: 0.6810 → Prediction: 1\n",
            "- 10/10: 873765...\n",
            "audio_classifier: pred=1, prob=0.9516, weight=0.45\n",
            "           crnn: pred=1, prob=0.9665, weight=0.10\n",
            "         resnet: pred=1, prob=0.9611, weight=0.45\n",
            "\n",
            "Final avg prob: 0.7383 → Prediction: 1\n",
            "Done.\n"
          ]
        }
      ]
    },
    {
      "cell_type": "markdown",
      "source": [
        "### Evaluate"
      ],
      "metadata": {
        "id": "vm3yhIuCF-E6"
      }
    },
    {
      "cell_type": "code",
      "source": [
        "!python Chagas-challenge-Hear-heart/evaluate_model.py -d Chagas-challenge-Hear-heart/dataset -o holdout_outputs_ens -s scores.csv"
      ],
      "metadata": {
        "id": "YoM5XPWgNZBE"
      },
      "execution_count": null,
      "outputs": []
    },
    {
      "cell_type": "markdown",
      "source": [
        "### Metrics & Analysis"
      ],
      "metadata": {
        "id": "7KiC2VzP1rob"
      }
    },
    {
      "cell_type": "code",
      "source": [
        "# === Step 1: Load labels and predictions\n",
        "labels, outputs = load_predictions_and_labels(\"holdout_outputs_ens\")\n",
        "\n",
        "# === Step 2: Calculate metrics using helper_code\n",
        "challenge_score = compute_challenge_score(labels, outputs)\n",
        "auroc, auprc = compute_auc(labels, outputs)\n",
        "predicted_labels = (outputs >= 0.5).astype(int)\n",
        "accuracy = compute_accuracy(labels, predicted_labels)\n",
        "f1 = compute_f_measure(labels, predicted_labels)\n",
        "\n",
        "# === Step 3: Format nicely with pandas\n",
        "df = pd.DataFrame({\n",
        "    \"Metric\": [\"Challenge score\", \"AUROC\", \"AUPRC\", \"Accuracy\", \"F-measure\"],\n",
        "    \"Score\": [challenge_score, auroc, auprc, accuracy, f1]\n",
        "})\n",
        "\n",
        "# === Step 4: Display\n",
        "df.style.set_properties(**{\"text-align\": \"center\"}).set_table_styles([{\n",
        "    \"selector\": \"th\",\n",
        "    \"props\": [(\"text-align\", \"center\")]\n",
        "}])\n"
      ],
      "metadata": {
        "id": "QdRnOx4cy-xs",
        "colab": {
          "base_uri": "https://localhost:8080/",
          "height": 201
        },
        "outputId": "b456f036-df8b-48ee-db11-23486dabdf43"
      },
      "execution_count": null,
      "outputs": [
        {
          "output_type": "execute_result",
          "data": {
            "text/plain": [
              "<pandas.io.formats.style.Styler at 0x7fc9fdf5e850>"
            ],
            "text/html": [
              "<style type=\"text/css\">\n",
              "#T_f1c1b th {\n",
              "  text-align: center;\n",
              "}\n",
              "#T_f1c1b_row0_col0, #T_f1c1b_row0_col1, #T_f1c1b_row1_col0, #T_f1c1b_row1_col1, #T_f1c1b_row2_col0, #T_f1c1b_row2_col1, #T_f1c1b_row3_col0, #T_f1c1b_row3_col1, #T_f1c1b_row4_col0, #T_f1c1b_row4_col1 {\n",
              "  text-align: center;\n",
              "}\n",
              "</style>\n",
              "<table id=\"T_f1c1b\" class=\"dataframe\">\n",
              "  <thead>\n",
              "    <tr>\n",
              "      <th class=\"blank level0\" >&nbsp;</th>\n",
              "      <th id=\"T_f1c1b_level0_col0\" class=\"col_heading level0 col0\" >Metric</th>\n",
              "      <th id=\"T_f1c1b_level0_col1\" class=\"col_heading level0 col1\" >Score</th>\n",
              "    </tr>\n",
              "  </thead>\n",
              "  <tbody>\n",
              "    <tr>\n",
              "      <th id=\"T_f1c1b_level0_row0\" class=\"row_heading level0 row0\" >0</th>\n",
              "      <td id=\"T_f1c1b_row0_col0\" class=\"data row0 col0\" >Challenge score</td>\n",
              "      <td id=\"T_f1c1b_row0_col1\" class=\"data row0 col1\" >0.000000</td>\n",
              "    </tr>\n",
              "    <tr>\n",
              "      <th id=\"T_f1c1b_level0_row1\" class=\"row_heading level0 row1\" >1</th>\n",
              "      <td id=\"T_f1c1b_row1_col0\" class=\"data row1 col0\" >AUROC</td>\n",
              "      <td id=\"T_f1c1b_row1_col1\" class=\"data row1 col1\" >1.000000</td>\n",
              "    </tr>\n",
              "    <tr>\n",
              "      <th id=\"T_f1c1b_level0_row2\" class=\"row_heading level0 row2\" >2</th>\n",
              "      <td id=\"T_f1c1b_row2_col0\" class=\"data row2 col0\" >AUPRC</td>\n",
              "      <td id=\"T_f1c1b_row2_col1\" class=\"data row2 col1\" >1.000000</td>\n",
              "    </tr>\n",
              "    <tr>\n",
              "      <th id=\"T_f1c1b_level0_row3\" class=\"row_heading level0 row3\" >3</th>\n",
              "      <td id=\"T_f1c1b_row3_col0\" class=\"data row3 col0\" >Accuracy</td>\n",
              "      <td id=\"T_f1c1b_row3_col1\" class=\"data row3 col1\" >0.600000</td>\n",
              "    </tr>\n",
              "    <tr>\n",
              "      <th id=\"T_f1c1b_level0_row4\" class=\"row_heading level0 row4\" >4</th>\n",
              "      <td id=\"T_f1c1b_row4_col0\" class=\"data row4 col0\" >F-measure</td>\n",
              "      <td id=\"T_f1c1b_row4_col1\" class=\"data row4 col1\" >0.523810</td>\n",
              "    </tr>\n",
              "  </tbody>\n",
              "</table>\n"
            ]
          },
          "metadata": {},
          "execution_count": 20
        }
      ]
    },
    {
      "cell_type": "code",
      "source": [
        "plt.hist(outputs, bins=50)\n",
        "plt.title(\"Distribution of predicted probabilities\")\n",
        "plt.xlabel(\"Probability\")\n",
        "plt.ylabel(\"Number of records\")\n",
        "plt.grid(True)\n",
        "plt.show()\n"
      ],
      "metadata": {
        "id": "jgo8ER-7DGPW",
        "colab": {
          "base_uri": "https://localhost:8080/",
          "height": 471
        },
        "outputId": "5a14a9db-ef33-4a1c-d0ca-6627e3afae60"
      },
      "execution_count": null,
      "outputs": [
        {
          "output_type": "display_data",
          "data": {
            "text/plain": [
              "<Figure size 640x480 with 1 Axes>"
            ],
            "image/png": "[encoded data removed]"
          },
          "metadata": {}
        }
      ]
    },
    {
      "cell_type": "code",
      "source": [
        "# Capacity is 5% of total records\n",
        "capacity = int(0.05 * len(labels))\n",
        "top_k_indices = np.argsort(outputs)[::-1][:capacity]\n",
        "\n",
        "# Debug: Show top-k records and if they are positive\n",
        "for idx in top_k_indices:\n",
        "    print(f\"Index {idx}: prob={outputs[idx]:.4f}, label={labels[idx]}\")\n"
      ],
      "metadata": {
        "id": "jWMR33AhDVyI"
      },
      "execution_count": null,
      "outputs": []
    },
    {
      "cell_type": "code",
      "source": [
        "# Indices of all true positive samples\n",
        "tp_indices = np.where(labels == 1)[0]\n",
        "\n",
        "# Find which of them are NOT in top_k\n",
        "missed_tp = [idx for idx in tp_indices if idx not in top_k_indices]\n",
        "\n",
        "print(f\"Missed true positives (not in top 5%): {len(missed_tp)}\")\n",
        "for idx in missed_tp:\n",
        "    print(f\"Index {idx}: prob={outputs[idx]:.4f}\")\n"
      ],
      "metadata": {
        "id": "1fGCrACJDbxK",
        "colab": {
          "base_uri": "https://localhost:8080/"
        },
        "outputId": "73796908-e0db-456d-dece-11bc3a6ceb1f"
      },
      "execution_count": null,
      "outputs": [
        {
          "output_type": "stream",
          "name": "stdout",
          "text": [
            "Missed true positives (not in top 5%): 5\n",
            "Index 3: prob=0.6924\n",
            "Index 6: prob=0.6863\n",
            "Index 7: prob=0.7392\n",
            "Index 8: prob=0.6810\n",
            "Index 9: prob=0.7383\n"
          ]
        }
      ]
    },
    {
      "cell_type": "code",
      "source": [
        "plt.figure(figsize=(10, 3))\n",
        "plt.scatter(range(len(outputs)), outputs, c=labels, cmap='coolwarm', alpha=0.6)\n",
        "plt.title(\"Predicted probabilities vs. true labels\")\n",
        "plt.xlabel(\"Sample index\")\n",
        "plt.ylabel(\"Probability\")\n",
        "plt.grid(True)\n",
        "plt.show()\n"
      ],
      "metadata": {
        "id": "Ao7yqIiwDjf_",
        "colab": {
          "base_uri": "https://localhost:8080/",
          "height": 308
        },
        "outputId": "a7769a7b-ae62-4277-e609-caa420ce3b3f"
      },
      "execution_count": null,
      "outputs": [
        {
          "output_type": "display_data",
          "data": {
            "text/plain": [
              "<Figure size 1000x300 with 1 Axes>"
            ],
            "image/png": "[encoded data removed]"
          },
          "metadata": {}
        }
      ]
    },
    {
      "cell_type": "markdown",
      "source": [
        "# S4 Model"
      ],
      "metadata": {
        "id": "7bFKi8_6WAjb"
      }
    },
    {
      "cell_type": "markdown",
      "source": [
        "### Run"
      ],
      "metadata": {
        "id": "2Aacppryd6vD"
      }
    },
    {
      "cell_type": "code",
      "source": [
        "!python Chagas-challenge-Hear-heart/run_model.py -d Chagas-challenge-Hear-heart/dataset -m Chagas-challenge-Hear-heart/model2 -o holdout_outputs_s4 -v"
      ],
      "metadata": {
        "id": "E762pXQXVOKz",
        "colab": {
          "base_uri": "https://localhost:8080/"
        },
        "outputId": "bce6136e-91dc-4111-f32f-a186882d7376"
      },
      "execution_count": null,
      "outputs": [
        {
          "output_type": "stream",
          "name": "stdout",
          "text": [
            "Loading the Challenge model...\n",
            "final model path Chagas-challenge-Hear-heart/model2/final_model.pt\n",
            "folder: Chagas-challenge-Hear-heart/dataset\n",
            "Finding the Challenge data...\n",
            "Running the Challenge model on the Challenge data...\n",
            "-  1/10: 00005_hr...\n",
            "Traceback (most recent call last):\n",
            "  File \"/content/Chagas-challenge-Hear-heart/run_model.py\", line 90, in <module>\n",
            "    run(get_parser().parse_args(sys.argv[1:]))\n",
            "  File \"/content/Chagas-challenge-Hear-heart/run_model.py\", line 67, in run\n",
            "    binary_output, probability_output = run_model(os.path.join(args.data_folder, record), model, args.verbose) ### Teams: Implement this function!!!\n",
            "                                        ^^^^^^^^^^^^^^^^^^^^^^^^^^^^^^^^^^^^^^^^^^^^^^^^^^^^^^^^^^^^^^^^^^^^^^\n",
            "  File \"/content/Chagas-challenge-Hear-heart/team_code.py\", line 137, in run_model\n",
            "    prob = models(signal_tensor).item()\n",
            "           ^^^^^^^^^^^^^^^^^^^^^^^^^^^^\n",
            "RuntimeError: a Tensor with 8 elements cannot be converted to Scalar\n"
          ]
        }
      ]
    },
    {
      "cell_type": "markdown",
      "source": [
        "### Evaluate"
      ],
      "metadata": {
        "id": "YSxXDYiv1LuP"
      }
    },
    {
      "cell_type": "code",
      "source": [
        "!python Chagas-challenge-Hear-heart/evaluate_model.py -d Chagas-challenge-Hear-heart/dataset -o holdout_outputs_s4 -s scores.csv"
      ],
      "metadata": {
        "id": "O3jkTupZU7sv",
        "colab": {
          "base_uri": "https://localhost:8080/"
        },
        "outputId": "f5a68b87-8958-45e6-ec2f-d386b106b7d7"
      },
      "execution_count": null,
      "outputs": [
        {
          "output_type": "stream",
          "name": "stdout",
          "text": [
            "Traceback (most recent call last):\n",
            "  File \"/content/Chagas-challenge-Hear-heart/evaluate_model.py\", line 130, in <module>\n",
            "    run(get_parser().parse_args(sys.argv[1:]))\n",
            "  File \"/content/Chagas-challenge-Hear-heart/evaluate_model.py\", line 114, in run\n",
            "    challenge_score, auroc, auprc, accuracy, f_measure = evaluate_model(args.data_folder, args.output_folder)\n",
            "                                                         ^^^^^^^^^^^^^^^^^^^^^^^^^^^^^^^^^^^^^^^^^^^^^^^^^^^^\n",
            "  File \"/content/Chagas-challenge-Hear-heart/evaluate_model.py\", line 66, in evaluate_model\n",
            "    raise FileNotFoundError('No binary outputs found.')\n",
            "FileNotFoundError: No binary outputs found.\n"
          ]
        }
      ]
    },
    {
      "cell_type": "markdown",
      "source": [
        "### Metrics & Analysis"
      ],
      "metadata": {
        "id": "w1WtI8Vh1Qzb"
      }
    },
    {
      "cell_type": "code",
      "source": [
        "\n",
        "\n",
        "# === Step 1: Load labels and predictions\n",
        "labels, outputs = load_predictions_and_labels(\"holdout_outputs_s4\")\n",
        "\n",
        "# === Step 2: Calculate metrics using helper_code\n",
        "challenge_score = compute_challenge_score(labels, outputs)\n",
        "auroc, auprc = compute_auc(labels, outputs)\n",
        "predicted_labels = (outputs >= 0.5).astype(int)\n",
        "accuracy = compute_accuracy(labels, predicted_labels)\n",
        "f1 = compute_f_measure(labels, predicted_labels)\n",
        "\n",
        "# === Step 3: Format nicely with pandas\n",
        "df = pd.DataFrame({\n",
        "    \"Metric\": [\"Challenge score\", \"AUROC\", \"AUPRC\", \"Accuracy\", \"F-measure\"],\n",
        "    \"Score\": [challenge_score, auroc, auprc, accuracy, f1]\n",
        "})\n",
        "\n",
        "# === Step 4: Display\n",
        "df.style.set_properties(**{\"text-align\": \"center\"}).set_table_styles([{\n",
        "    \"selector\": \"th\",\n",
        "    \"props\": [(\"text-align\", \"center\")]\n",
        "}])\n"
      ],
      "metadata": {
        "id": "QTsWbEe_taKw",
        "colab": {
          "base_uri": "https://localhost:8080/",
          "height": 316
        },
        "outputId": "e5ae048a-8fd4-42ee-d85e-4d14e836b130"
      },
      "execution_count": null,
      "outputs": [
        {
          "output_type": "error",
          "ename": "FileNotFoundError",
          "evalue": "[Errno 2] No such file or directory: 'holdout_outputs_s4'",
          "traceback": [
            "\u001b[0;31m---------------------------------------------------------------------------\u001b[0m",
            "\u001b[0;31mFileNotFoundError\u001b[0m                         Traceback (most recent call last)",
            "\u001b[0;32m/tmp/ipython-input-19-951784255.py\u001b[0m in \u001b[0;36m<cell line: 0>\u001b[0;34m()\u001b[0m\n\u001b[1;32m      1\u001b[0m \u001b[0;31m# === Step 1: Load labels and predictions\u001b[0m\u001b[0;34m\u001b[0m\u001b[0;34m\u001b[0m\u001b[0m\n\u001b[0;32m----> 2\u001b[0;31m \u001b[0mlabels\u001b[0m\u001b[0;34m,\u001b[0m \u001b[0moutputs\u001b[0m \u001b[0;34m=\u001b[0m \u001b[0mload_predictions_and_labels\u001b[0m\u001b[0;34m(\u001b[0m\u001b[0;34m\"holdout_outputs_s4\"\u001b[0m\u001b[0;34m)\u001b[0m\u001b[0;34m\u001b[0m\u001b[0;34m\u001b[0m\u001b[0m\n\u001b[0m\u001b[1;32m      3\u001b[0m \u001b[0;34m\u001b[0m\u001b[0m\n\u001b[1;32m      4\u001b[0m \u001b[0;31m# === Step 2: Calculate metrics using helper_code\u001b[0m\u001b[0;34m\u001b[0m\u001b[0;34m\u001b[0m\u001b[0m\n\u001b[1;32m      5\u001b[0m \u001b[0mchallenge_score\u001b[0m \u001b[0;34m=\u001b[0m \u001b[0mcompute_challenge_score\u001b[0m\u001b[0;34m(\u001b[0m\u001b[0mlabels\u001b[0m\u001b[0;34m,\u001b[0m \u001b[0moutputs\u001b[0m\u001b[0;34m)\u001b[0m\u001b[0;34m\u001b[0m\u001b[0;34m\u001b[0m\u001b[0m\n",
            "\u001b[0;32m/tmp/ipython-input-7-15352290.py\u001b[0m in \u001b[0;36mload_predictions_and_labels\u001b[0;34m(output_dir)\u001b[0m\n\u001b[1;32m      3\u001b[0m     \u001b[0mprobs\u001b[0m \u001b[0;34m=\u001b[0m \u001b[0;34m[\u001b[0m\u001b[0;34m]\u001b[0m\u001b[0;34m\u001b[0m\u001b[0;34m\u001b[0m\u001b[0m\n\u001b[1;32m      4\u001b[0m \u001b[0;34m\u001b[0m\u001b[0m\n\u001b[0;32m----> 5\u001b[0;31m     \u001b[0;32mfor\u001b[0m \u001b[0mfname\u001b[0m \u001b[0;32min\u001b[0m \u001b[0msorted\u001b[0m\u001b[0;34m(\u001b[0m\u001b[0mos\u001b[0m\u001b[0;34m.\u001b[0m\u001b[0mlistdir\u001b[0m\u001b[0;34m(\u001b[0m\u001b[0moutput_dir\u001b[0m\u001b[0;34m)\u001b[0m\u001b[0;34m)\u001b[0m\u001b[0;34m:\u001b[0m\u001b[0;34m\u001b[0m\u001b[0;34m\u001b[0m\u001b[0m\n\u001b[0m\u001b[1;32m      6\u001b[0m         \u001b[0;32mif\u001b[0m \u001b[0;32mnot\u001b[0m \u001b[0mfname\u001b[0m\u001b[0;34m.\u001b[0m\u001b[0mendswith\u001b[0m\u001b[0;34m(\u001b[0m\u001b[0;34m'.txt'\u001b[0m\u001b[0;34m)\u001b[0m\u001b[0;34m:\u001b[0m\u001b[0;34m\u001b[0m\u001b[0;34m\u001b[0m\u001b[0m\n\u001b[1;32m      7\u001b[0m             \u001b[0;32mcontinue\u001b[0m\u001b[0;34m\u001b[0m\u001b[0;34m\u001b[0m\u001b[0m\n",
            "\u001b[0;31mFileNotFoundError\u001b[0m: [Errno 2] No such file or directory: 'holdout_outputs_s4'"
          ]
        }
      ]
    },
    {
      "cell_type": "code",
      "source": [
        "import matplotlib.pyplot as plt\n",
        "\n",
        "plt.hist(outputs, bins=50)\n",
        "plt.title(\"Distribution of predicted probabilities\")\n",
        "plt.xlabel(\"Probability\")\n",
        "plt.ylabel(\"Number of records\")\n",
        "plt.grid(True)\n",
        "plt.show()\n"
      ],
      "metadata": {
        "id": "ow7zZyNfp1ka"
      },
      "execution_count": null,
      "outputs": []
    },
    {
      "cell_type": "code",
      "source": [
        "# Capacity is 5% of total records\n",
        "capacity = int(0.05 * len(labels))\n",
        "top_k_indices = np.argsort(outputs)[::-1][:capacity]\n",
        "\n",
        "# Debug: Show top-k records and if they are positive\n",
        "for idx in top_k_indices:\n",
        "    print(f\"Index {idx}: prob={outputs[idx]:.4f}, label={labels[idx]}\")\n"
      ],
      "metadata": {
        "collapsed": true,
        "id": "x6ech0KDp8f4"
      },
      "execution_count": null,
      "outputs": []
    },
    {
      "cell_type": "code",
      "source": [
        "# Indices of all true positive samples\n",
        "tp_indices = np.where(labels == 1)[0]\n",
        "\n",
        "# Find which of them are NOT in top_k\n",
        "missed_tp = [idx for idx in tp_indices if idx not in top_k_indices]\n",
        "\n",
        "print(f\"Missed true positives (not in top 5%): {len(missed_tp)}\")\n",
        "for idx in missed_tp:\n",
        "    print(f\"Index {idx}: prob={outputs[idx]:.4f}\")\n"
      ],
      "metadata": {
        "collapsed": true,
        "id": "RYIhSZ2OqH3B"
      },
      "execution_count": null,
      "outputs": []
    },
    {
      "cell_type": "code",
      "source": [
        "plt.figure(figsize=(10, 3))\n",
        "plt.scatter(range(len(outputs)), outputs, c=labels, cmap='coolwarm', alpha=0.6)\n",
        "plt.title(\"Predicted probabilities vs. true labels\")\n",
        "plt.xlabel(\"Sample index\")\n",
        "plt.ylabel(\"Probability\")\n",
        "plt.grid(True)\n",
        "plt.show()\n"
      ],
      "metadata": {
        "id": "11wKgEgqqMdx"
      },
      "execution_count": null,
      "outputs": []
    },
    {
      "cell_type": "markdown",
      "source": [
        "# Comparison between ensemble model and S4 model"
      ],
      "metadata": {
        "id": "Y58G9-Jbyn5z"
      }
    },
    {
      "cell_type": "code",
      "source": [
        "def evaluate_model(pred_path: str):\n",
        "    # Load labels and predicted probabilities\n",
        "    labels, outputs = load_predictions_and_labels(pred_path)\n",
        "\n",
        "    # Compute metrics\n",
        "    challenge_score = compute_challenge_score(labels, outputs)\n",
        "    auroc, auprc = compute_auc(labels, outputs)\n",
        "    predicted_labels = (outputs >= 0.5).astype(int)\n",
        "    accuracy = compute_accuracy(labels, predicted_labels)\n",
        "    f1 = compute_f_measure(labels, predicted_labels)\n",
        "\n",
        "    return {\n",
        "        \"Challenge score\": challenge_score,\n",
        "        \"AUROC\": auroc,\n",
        "        \"AUPRC\": auprc,\n",
        "        \"Accuracy\": accuracy,\n",
        "        \"F-measure\": f1\n",
        "    }\n",
        "\n",
        "# === Evaluate both models\n",
        "s4_scores = evaluate_model(\"holdout_outputs_s4\")\n",
        "ens_scores = evaluate_model(\"holdout_outputs_ens\")\n",
        "\n",
        "# === Combine into a DataFrame\n",
        "comparison_df = pd.DataFrame({\n",
        "    \"Metric\": list(s4_scores.keys()),\n",
        "    \"S4D_final_model.pt\": list(s4_scores.values()),\n",
        "    \"Ensemble_model.pt\": [ens_scores[m] for m in s4_scores.keys()]\n",
        "})\n",
        "\n",
        "# === Display the tidy table\n",
        "comparison_df.set_index(\"Metric\", inplace=True)\n",
        "display(comparison_df)"
      ],
      "metadata": {
        "id": "DRHIQQ7Ow1_-"
      },
      "execution_count": null,
      "outputs": []
    },
    {
      "cell_type": "markdown",
      "source": [
        "### Metadata Collection Helpers"
      ],
      "metadata": {
        "id": "ERDgM-jbIkjH"
      }
    },
    {
      "cell_type": "code",
      "source": [
        "def gather_file_metadata(subdir):\n",
        "    hea_files = sorted([f for f in os.listdir(os.path.join(DATA_DIR, subdir)) if f.endswith(\".hea\")])\n",
        "    data = []\n",
        "    for hea_file in hea_files:\n",
        "        base = hea_file.replace(\".hea\", \"\")\n",
        "        dat_path = os.path.join(DATA_DIR, subdir, base + \".dat\")\n",
        "        hea_path = os.path.join(DATA_DIR, subdir, hea_file)\n",
        "\n",
        "        if not os.path.exists(dat_path):\n",
        "            continue\n",
        "\n",
        "        header = load_header(hea_path)\n",
        "        label = get_label(header)\n",
        "        source = get_source(header)\n",
        "        age = get_age(header)\n",
        "        sex = get_sex(header)\n",
        "\n",
        "        data.append({\n",
        "            \"record_id\": base,\n",
        "            \"dat_path\": dat_path,\n",
        "            \"hea_path\": hea_path,\n",
        "            \"label\": label,\n",
        "            \"source\": source,\n",
        "            \"age\": age,\n",
        "            \"sex\": sex,\n",
        "            \"subdir\": subdir\n",
        "        })\n",
        "    return pd.DataFrame(data)\n"
      ],
      "metadata": {
        "id": "ReQp0s002a79"
      },
      "execution_count": null,
      "outputs": []
    },
    {
      "cell_type": "markdown",
      "source": [
        "# Datasplitting & Balancing of samples (dont think we need this)"
      ],
      "metadata": {
        "id": "UtBFrO8po3ZJ"
      }
    },
    {
      "cell_type": "markdown",
      "source": [
        "## Clean directory"
      ],
      "metadata": {
        "id": "rfl4DAOb-U-n"
      }
    },
    {
      "cell_type": "code",
      "source": [
        "def clean_dir(folder):\n",
        "    if not os.path.exists(folder):\n",
        "        os.makedirs(folder)\n",
        "    else:\n",
        "        for f in os.listdir(folder):\n",
        "            if f.endswith(\".dat\") or f.endswith(\".hea\"):\n",
        "                os.remove(os.path.join(folder, f))\n"
      ],
      "metadata": {
        "id": "yVadJh6x-UPu"
      },
      "execution_count": null,
      "outputs": []
    },
    {
      "cell_type": "markdown",
      "source": [
        "## Combine + Split + Compute Class Weights"
      ],
      "metadata": {
        "id": "ioN6aEAy-YHp"
      }
    },
    {
      "cell_type": "code",
      "source": [
        "def combine_and_split_all():\n",
        "    print(\"\\n Removing files that was already there.\")\n",
        "    clean_dir(os.path.join(DATA_DIR, \"train\"))\n",
        "    clean_dir(os.path.join(DATA_DIR, \"val\"))\n",
        "    clean_dir(os.path.join(DATA_DIR, \"test\"))\n",
        "    print(\"\\n Collecting all .hea/.dat files and labels\")\n",
        "\n",
        "    df_ptbxl = gather_file_metadata(\"ptbxl_output/ptbxl_output\")\n",
        "    df_samitrop = gather_file_metadata(\"samitrop_output/samitrop_output\")\n",
        "\n",
        "    df_all = pd.concat([df_ptbxl, df_samitrop], ignore_index=True)\n",
        "    print(f\" Total records found: {len(df_all)}\")\n",
        "    print(\"Label distribution in full dataset:\")\n",
        "    print(df_all['label'].value_counts())\n",
        "\n",
        "    df_trainval, df_test = train_test_split(df_all, test_size=0.15, stratify=df_all[\"label\"], random_state=42)\n",
        "    df_train, df_val = train_test_split(df_trainval, test_size=0.1765, stratify=df_trainval[\"label\"], random_state=42)\n",
        "\n",
        "    print(\"\\n📊 Train:\")\n",
        "    print(df_train[\"label\"].value_counts())\n",
        "    print(\"📊 Val:\")\n",
        "    print(df_val[\"label\"].value_counts())\n",
        "    print(\"📊 Test:\")\n",
        "    print(df_test[\"label\"].value_counts())\n",
        "\n",
        "    y_train = df_train[\"label\"].values\n",
        "    class_weights = compute_class_weight(class_weight=\"balanced\", classes=np.array([0, 1]), y=y_train)\n",
        "    weight_dict = {0: class_weights[0], 1: class_weights[1]}\n",
        "\n",
        "    print(\"\\n✅ Class weights:\")\n",
        "    print(weight_dict)\n",
        "\n",
        "    return df_train, df_val, df_test, weight_dict\n"
      ],
      "metadata": {
        "id": "Wq1t4Q3R-cdA"
      },
      "execution_count": null,
      "outputs": []
    },
    {
      "cell_type": "markdown",
      "source": [
        "## Save Records to Split Folders"
      ],
      "metadata": {
        "id": "rw85H3UQ-fCk"
      }
    },
    {
      "cell_type": "code",
      "source": [
        "def save_records(df, out_dir):\n",
        "    clean_dir(out_dir)\n",
        "    for _, row in df.iterrows():\n",
        "        base = row[\"record_id\"]\n",
        "        subdir = row[\"subdir\"]\n",
        "        for ext in [\".hea\", \".dat\"]:\n",
        "            src = os.path.join(DATA_DIR, subdir, base + ext)\n",
        "            dst = os.path.join(out_dir, base + ext)\n",
        "            if os.path.exists(src):\n",
        "                shutil.copy(src, dst)\n"
      ],
      "metadata": {
        "id": "eSIaEw16-gPd"
      },
      "execution_count": null,
      "outputs": []
    },
    {
      "cell_type": "markdown",
      "source": [
        "## Run Full Split + Save Folders"
      ],
      "metadata": {
        "id": "2OPzPRmT-iU0"
      }
    },
    {
      "cell_type": "code",
      "source": [
        "df_train, df_val, df_test, weight_dict = combine_and_split_all()\n",
        "\n",
        "save_records(df_train, os.path.join(DATA_DIR, \"train\"))\n",
        "save_records(df_val, os.path.join(DATA_DIR, \"val\"))\n",
        "save_records(df_test, os.path.join(DATA_DIR, \"test\"))"
      ],
      "metadata": {
        "id": "ROPJO1Bl-lWD"
      },
      "execution_count": null,
      "outputs": []
    },
    {
      "cell_type": "markdown",
      "source": [
        "## Create Balanced Sampler & Train Loader"
      ],
      "metadata": {
        "id": "nahPFf5m-n8t"
      }
    },
    {
      "cell_type": "code",
      "source": [
        "\n",
        "\n",
        "# --- Custom create_balanced_sampler ---\n",
        "def create_balanced_sampler(dataset):\n",
        "    labels = []\n",
        "    for i in range(len(dataset)):\n",
        "        _, label = dataset[i]\n",
        "        labels.append(int(label.item()))\n",
        "    labels = np.array(labels)\n",
        "\n",
        "    label_counts = np.bincount(labels)\n",
        "    class_weights = 1.0 / label_counts\n",
        "    sample_weights = class_weights[labels]\n",
        "    return WeightedRandomSampler(weights=sample_weights, num_samples=len(sample_weights), replacement=True)\n",
        "\n",
        "# --- Usage ---\n",
        "train_dataset = ECGFromCSV('/content/drive/MyDrive/chagas_datasets/train', augment=True)\n",
        "sampler = create_balanced_sampler(train_dataset)\n",
        "train_loader = DataLoader(train_dataset, batch_size=16, sampler=sampler)\n"
      ],
      "metadata": {
        "id": "nhFASplW-qlk"
      },
      "execution_count": null,
      "outputs": []
    },
    {
      "cell_type": "code",
      "source": [
        "from collections import Counter\n",
        "samples = [df_train['label'].iloc[i] for i in list(sampler)]\n",
        "print(Counter(samples))"
      ],
      "metadata": {
        "id": "nWoMcHASLXyH"
      },
      "execution_count": null,
      "outputs": []
    }
  ]
}